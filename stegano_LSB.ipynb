{
 "cells": [
  {
   "cell_type": "code",
   "execution_count": 3,
   "metadata": {},
   "outputs": [],
   "source": [
    "# coding : utf-8\n",
    "'''\n",
    "@creat_time = 2022/6/11,19:33\n",
    "@auther = MrCrimson\n",
    "Email : mrcrimson@163.com\n",
    "'''\n",
    "import cv2\n",
    "import random,time,hashlib,itertools\n",
    "import numpy as np\n",
    "\n",
    "visible_text = \"MrCrimson\"\n",
    "ID = 123456789\n",
    "begin_time = time.ctime()"
   ]
  },
  {
   "cell_type": "code",
   "execution_count": 4,
   "metadata": {},
   "outputs": [],
   "source": [
    "#embed watermark\n",
    "def Embed_watermark(video_root):\n",
    "    cap = cv2.VideoCapture(video_root)\n",
    "    w = int(cap.get(cv2.CAP_PROP_FRAME_WIDTH))\n",
    "    h = int(cap.get(cv2.CAP_PROP_FRAME_HEIGHT))\n",
    "    fps = cap.get(cv2.CAP_PROP_FPS)\n",
    "    fourcc = cv2.VideoWriter_fourcc('D','I','V','X')\n",
    "    out = cv2.VideoWriter(\"embed_video.avi\",fourcc,fps,(w,h))\n",
    "    while cap.isOpened():\n",
    "        ret,img = cap.read()\n",
    "        if ret == True:\n",
    "            embed_img,size = img_embed_watermark_dct(img)\n",
    "            frame = embed_img\n",
    "            out.write(frame)\n",
    "        else:\n",
    "            break\n",
    "    cap.release()\n",
    "    out.release()\n",
    "    return size\n",
    "\n",
    "def Extract_watermark(video_root,size):\n",
    "    cap = cv2.VideoCapture(video_root)\n",
    "    while True:\n",
    "        ret,img = cap.read()\n",
    "        if ret == True:\n",
    "            watermark = img_extract_watermark_dct(img,size)\n",
    "            if len(watermark) != 0:\n",
    "                break\n",
    "    cap.release()\n",
    "    return watermark"
   ]
  },
  {
   "cell_type": "code",
   "execution_count": 5,
   "metadata": {},
   "outputs": [],
   "source": [
    "def img_embed_watermark_dct(img):\n",
    "    w, h, _ = img.shape\n",
    "    base_img = np.zeros((w, h, 3), dtype=np.uint8)\n",
    "    # make visible watermark image\n",
    "    visible_watermark = cv2.putText(base_img, visible_text, (10, 30), 0, 1, (255, 255, 255), 4)\n",
    "\n",
    "    img_ori = img\n",
    "    beta = round(random.uniform(0.4, 0.6), 4)\n",
    "    # visible watermark\n",
    "    img = cv2.addWeighted(src1=img_ori, alpha=1, src2=visible_watermark, beta=beta, gamma=2)\n",
    "    # blind watermark dct mid-frequency\n",
    "    text = str(ID)+begin_time\n",
    "    bitText = toBits(text)\n",
    "    print(\"Embed watermark is \"+text)\n",
    "    if ((w / 8) * (h / 8) < len(text)):\n",
    "        print(\"Error: Message too large to encode in image\")\n",
    "        return False\n",
    "\n",
    "    if w % 8 != 0 or h % 8 != 0:\n",
    "        img = img = cv2.resize(img,(h+(8-h%8),w+(8-w%8)))\n",
    "    bImg, gImg, rImg = cv2.split(img)\n",
    "    # message to be hid in blue channel so converted to type float32 for dct function\n",
    "    bImg = np.float32(bImg)\n",
    "    # break into 8x8 blocks\n",
    "    imgBlocks = [np.round(bImg[j:j + 8, i:i + 8] - 128) for (j, i) in itertools.product(range(0, w, 8),\n",
    "                                                                                        range(0, h, 8))]\n",
    "    # Blocks are run through DCT function\n",
    "    dctBlocks = [np.round(cv2.dct(img_Block)) for img_Block in imgBlocks]\n",
    "    # blocks then run through quantization table\n",
    "    quantizedDCT = [np.round(dct_Block / quant) for dct_Block in dctBlocks]\n",
    "    # set LSB in DC value corresponding bit of message\n",
    "    messIndex = 0\n",
    "    letterIndex = 0\n",
    "    for quantizedBlock in quantizedDCT:\n",
    "        # find LSB in DC coeff and replace with message bit\n",
    "        DC = quantizedBlock[0][0]\n",
    "        DC = np.uint8(DC)\n",
    "        DC = np.unpackbits(DC)\n",
    "        DC[7] = bitText[messIndex][letterIndex]\n",
    "        DC = np.packbits(DC)\n",
    "        DC = np.float32(DC)\n",
    "        DC = DC - 255\n",
    "        quantizedBlock[0][0] = DC\n",
    "        letterIndex = letterIndex + 1\n",
    "        if letterIndex == 8:\n",
    "            letterIndex = 0\n",
    "            messIndex = messIndex + 1\n",
    "            if messIndex == len(text):\n",
    "                break\n",
    "    # blocks run inversely through quantization table\n",
    "    sImgBlocks = [quantizedBlock * quant + 128 for quantizedBlock in quantizedDCT]\n",
    "    # blocks run through inverse DCT\n",
    "    # sImgBlocks = [cv2.idct(B)+128 for B in quantizedDCT]\n",
    "    # puts the new image back together\n",
    "    sImg = []\n",
    "    for chunkRowBlocks in chunks(sImgBlocks, h / 8):\n",
    "        for rowBlockNum in range(8):\n",
    "            for block in chunkRowBlocks:\n",
    "                sImg.extend(block[rowBlockNum])\n",
    "    sImg = np.array(sImg).reshape(w, h)\n",
    "    # converted from type float32\n",
    "    sImg = np.uint8(sImg)\n",
    "    # show(sImg)\n",
    "    sImg = cv2.merge((sImg, gImg, rImg))\n",
    "    return sImg,len(text)\n",
    "\n",
    "def img_extract_watermark_dct(img,watermark_size):\n",
    "    w,h,_ = img.shape\n",
    "    textBits = []\n",
    "    textsize = None\n",
    "    buff = 0\n",
    "    bImg, gImg, rImg = cv2.split(img)\n",
    "    # message hid in blue channel so converted to type float32 for dct function\n",
    "    bImg = np.float32(bImg)\n",
    "    # break into 8x8 blocks\n",
    "    imgBlocks = [bImg[j:j + 8, i:i + 8] - 128 for (j, i) in itertools.product(range(0, w, 8),\n",
    "                                                                              range(0, h, 8))]\n",
    "    # blocks run through quantization table\n",
    "    quantizedDCT = [img_Block / quant for img_Block in imgBlocks]\n",
    "    i = 0\n",
    "    # message extracted from LSB of DC coeff\n",
    "    for quantizedBlock in quantizedDCT:\n",
    "        DC = quantizedBlock[0][0]\n",
    "        DC = np.uint8(DC)\n",
    "        DC = np.unpackbits(DC)\n",
    "        if DC[7] == 1:\n",
    "            buff += (0 & 1) << (7 - i)\n",
    "        elif DC[7] == 0:\n",
    "            buff += (1 & 1) << (7 - i)\n",
    "        i = 1 + i\n",
    "        if i == 8:\n",
    "            textBits.append(chr(buff))\n",
    "            buff = 0\n",
    "            i = 0\n",
    "            if textBits[-1] == '*' and textsize is None:\n",
    "                try:\n",
    "                    textsize = int(''.join(textBits[:-1]))\n",
    "                except:\n",
    "                    pass\n",
    "        if len(textBits) - len(str(textsize)) - 1 == textsize:\n",
    "            return ''.join(textBits)[len(str(textsize)) + 1:]\n",
    "    text = ''\n",
    "    for i in range(watermark_size):\n",
    "        text += textBits[i]\n",
    "    # blocks run inversely through quantization table\n",
    "    return text\n",
    "def chunks(l, n):\n",
    "    m = int(n)\n",
    "    for i in range(0, len(l), m):\n",
    "        yield l[i:i + m]\n",
    "\n",
    "def toBits(text):\n",
    "    bits = []\n",
    "    for char in text:\n",
    "        binval = bin(ord(char))[2:].rjust(8, '0')\n",
    "        bits.append(binval)\n",
    "    return bits\n",
    "\n",
    "def img_embed_watermark_lsb(img,copyright):\n",
    "    img_copy = img.copy()\n",
    "    cpr_copy = copyright.copy()\n",
    "\n",
    "    img_copy = img_copy.astype(np.uint8)\n",
    "    cpr_copy = cpr_copy.astype(np.uint8)\n",
    "\n",
    "    cpr_copy[cpr_copy<200] = 1\n",
    "    cpr_copy[cpr_copy>=200] = 0\n",
    "\n",
    "    w,h,_ = img_copy.shape\n",
    "\n",
    "    for i in range(0,w):\n",
    "        for j in range(0,h):\n",
    "            img_copy[i,j,:] = (img_copy[i,j,:]//2)*2\n",
    "\n",
    "    w_c,h_c,_ = cpr_copy.shape\n",
    "    for i in range(0,w_c):\n",
    "        for j in range(0,h_c):\n",
    "            img_copy[i,j,0] = img_copy[i,j,0] + cpr_copy[i,j,0]\n",
    "    return img_copy\n",
    "\n",
    "def img_extract_watermark_lsb(img):\n",
    "    img_copy = img.copy()\n",
    "    watermark = (img_copy%2)*255\n",
    "    return watermark"
   ]
  },
  {
   "cell_type": "code",
   "execution_count": 6,
   "metadata": {},
   "outputs": [
    {
     "data": {
      "text/plain": [
       "True"
      ]
     },
     "execution_count": 6,
     "metadata": {},
     "output_type": "execute_result"
    }
   ],
   "source": [
    "# 生成需要的水印图片\n",
    "w, h = [240,360]\n",
    "base_img = np.zeros((w, h, 3), dtype=np.uint8)\n",
    "# make visible watermark image\n",
    "visible_watermark = cv2.putText(base_img, visible_text, (10, 30), 0, 1, (255, 255, 255), 4)\n",
    "visible_watermark = cv2.putText(visible_watermark,\"2022\",(10,60),0,1,(255,255,255),4)\n",
    "visible_watermark = cv2.putText(visible_watermark,\"USTC\",(10,90),0,1,(255,255,255),4)\n",
    "# cv2.imshow(\"test\",visible_watermark)\n",
    "# cv2.waitKey()\n",
    "cv2.imwrite(\"watermark_pic.jpg\",visible_watermark)"
   ]
  },
  {
   "cell_type": "code",
   "execution_count": 7,
   "metadata": {},
   "outputs": [
    {
     "data": {
      "text/plain": [
       "True"
      ]
     },
     "execution_count": 7,
     "metadata": {},
     "output_type": "execute_result"
    }
   ],
   "source": [
    "origin = cv2.imread(\"test1.jpg\")\n",
    "watermark = cv2.imread(\"watermark_pic.jpg\")\n",
    "embed_img = img_embed_watermark_lsb(origin,watermark)\n",
    "# cv2.imshow(\"embed_img.jpg\",embed_img)\n",
    "cv2.imwrite(\"embed_img.jpg\",embed_img)\n",
    "\n"
   ]
  },
  {
   "cell_type": "code",
   "execution_count": 8,
   "metadata": {},
   "outputs": [
    {
     "data": {
      "text/plain": [
       "-1"
      ]
     },
     "execution_count": 8,
     "metadata": {},
     "output_type": "execute_result"
    }
   ],
   "source": [
    "extract_watermark = img_extract_watermark_lsb(embed_img)\n",
    "cv2.imshow(\"extract_img.jpg\",extract_watermark)\n",
    "cv2.waitKey()"
   ]
  }
 ],
 "metadata": {
  "interpreter": {
   "hash": "12cf4d0b9b7b18c55261077a6853aabe6f033db06abf1184072cd2e823f414c8"
  },
  "kernelspec": {
   "display_name": "Python 3.9.9 64-bit",
   "language": "python",
   "name": "python3"
  },
  "language_info": {
   "codemirror_mode": {
    "name": "ipython",
    "version": 3
   },
   "file_extension": ".py",
   "mimetype": "text/x-python",
   "name": "python",
   "nbconvert_exporter": "python",
   "pygments_lexer": "ipython3",
   "version": "3.9.9"
  },
  "orig_nbformat": 4
 },
 "nbformat": 4,
 "nbformat_minor": 2
}
